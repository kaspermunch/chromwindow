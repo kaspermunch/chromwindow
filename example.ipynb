{
 "cells": [
  {
   "cell_type": "code",
   "execution_count": 1,
   "metadata": {},
   "outputs": [],
   "source": [
    "import pandas as pd\n",
    "import numpy as np\n",
    "from chromwindow import window"
   ]
  },
  {
   "cell_type": "code",
   "execution_count": 2,
   "metadata": {},
   "outputs": [
    {
     "output_type": "execute_result",
     "data": {
      "text/plain": "                species  run  analysis\nchrom start end                       \nchr1  0     5     human    0       3.0\nchr2  1     2     human   10       3.4\n      2     7     human   20       3.8\n      3     4     human   30       4.2\n      4     9     human   40       4.6\n      5     6     chimp   50       5.0\n      6     11    chimp   60       5.4\n      7     8     chimp   70       5.8\n      8     13    chimp   80       6.2\n      9     10    chimp   90       6.6\n      40    45    chimp  100       7.0",
      "text/html": "<div>\n<style scoped>\n    .dataframe tbody tr th:only-of-type {\n        vertical-align: middle;\n    }\n\n    .dataframe tbody tr th {\n        vertical-align: top;\n    }\n\n    .dataframe thead th {\n        text-align: right;\n    }\n</style>\n<table border=\"1\" class=\"dataframe\">\n  <thead>\n    <tr style=\"text-align: right;\">\n      <th></th>\n      <th></th>\n      <th></th>\n      <th>species</th>\n      <th>run</th>\n      <th>analysis</th>\n    </tr>\n    <tr>\n      <th>chrom</th>\n      <th>start</th>\n      <th>end</th>\n      <th></th>\n      <th></th>\n      <th></th>\n    </tr>\n  </thead>\n  <tbody>\n    <tr>\n      <th>chr1</th>\n      <th>0</th>\n      <th>5</th>\n      <td>human</td>\n      <td>0</td>\n      <td>3.0</td>\n    </tr>\n    <tr>\n      <th rowspan=\"10\" valign=\"top\">chr2</th>\n      <th>1</th>\n      <th>2</th>\n      <td>human</td>\n      <td>10</td>\n      <td>3.4</td>\n    </tr>\n    <tr>\n      <th>2</th>\n      <th>7</th>\n      <td>human</td>\n      <td>20</td>\n      <td>3.8</td>\n    </tr>\n    <tr>\n      <th>3</th>\n      <th>4</th>\n      <td>human</td>\n      <td>30</td>\n      <td>4.2</td>\n    </tr>\n    <tr>\n      <th>4</th>\n      <th>9</th>\n      <td>human</td>\n      <td>40</td>\n      <td>4.6</td>\n    </tr>\n    <tr>\n      <th>5</th>\n      <th>6</th>\n      <td>chimp</td>\n      <td>50</td>\n      <td>5.0</td>\n    </tr>\n    <tr>\n      <th>6</th>\n      <th>11</th>\n      <td>chimp</td>\n      <td>60</td>\n      <td>5.4</td>\n    </tr>\n    <tr>\n      <th>7</th>\n      <th>8</th>\n      <td>chimp</td>\n      <td>70</td>\n      <td>5.8</td>\n    </tr>\n    <tr>\n      <th>8</th>\n      <th>13</th>\n      <td>chimp</td>\n      <td>80</td>\n      <td>6.2</td>\n    </tr>\n    <tr>\n      <th>9</th>\n      <th>10</th>\n      <td>chimp</td>\n      <td>90</td>\n      <td>6.6</td>\n    </tr>\n    <tr>\n      <th>40</th>\n      <th>45</th>\n      <td>chimp</td>\n      <td>100</td>\n      <td>7.0</td>\n    </tr>\n  </tbody>\n</table>\n</div>"
     },
     "metadata": {},
     "execution_count": 2
    }
   ],
   "source": [
    "data = pd.DataFrame({'chrom': ['chr1']+['chr2']*10,\n",
    "                    'start': list(range(10)) + [40],\n",
    "                    'end': list(map(sum, zip(range(10), [5, 1]*5+[20]))) + [45],\n",
    "                   'species': ['human']*5+['chimp']*6, 'run': range(0, 110, 10), 'analysis' : np.linspace(3, 7, 11)})\n",
    "\n",
    "data"
   ]
  },
  {
   "cell_type": "code",
   "execution_count": 5,
   "metadata": {},
   "outputs": [
    {
     "output_type": "stream",
     "name": "stdout",
     "text": "species  run  analysis\nchrom start end                       \nchr1  0     5     human    0       3.0\n                species  run  analysis\nchrom start end                       \nchr2  1     2     human   10       3.4\n      2     7     human   20       3.8\n      3     4     human   30       4.2\n      4     9     human   40       4.6\n      5     6     chimp   50       5.0\n      6     11    chimp   60       5.4\n      7     8     chimp   70       5.8\n      8     13    chimp   80       6.2\n      9     10    chimp   90       6.6\n      40    45    chimp  100       7.0\n"
    },
    {
     "output_type": "execute_result",
     "data": {
      "text/plain": "Empty DataFrame\nColumns: []\nIndex: []",
      "text/html": "<div>\n<style scoped>\n    .dataframe tbody tr th:only-of-type {\n        vertical-align: middle;\n    }\n\n    .dataframe tbody tr th {\n        vertical-align: top;\n    }\n\n    .dataframe thead th {\n        text-align: right;\n    }\n</style>\n<table border=\"1\" class=\"dataframe\">\n  <thead>\n    <tr style=\"text-align: right;\">\n      <th></th>\n    </tr>\n  </thead>\n  <tbody>\n  </tbody>\n</table>\n</div>"
     },
     "metadata": {},
     "execution_count": 5
    }
   ],
   "source": [
    "data.groupby('chrom').apply(lambda df: print(df))"
   ]
  },
  {
   "cell_type": "markdown",
   "metadata": {},
   "source": [
    "Make a function `interval_count` that is called on the intervals in windows of size 5. Note that the `window` decorator only handles a single chromosome so you always need to group your data by chromosome:"
   ]
  },
  {
   "cell_type": "code",
   "execution_count": 3,
   "metadata": {},
   "outputs": [
    {
     "output_type": "error",
     "ename": "AttributeError",
     "evalue": "'Pandas' object has no attribute 'start'",
     "traceback": [
      "\u001b[0;31m---------------------------------------------------------------------------\u001b[0m",
      "\u001b[0;31mAttributeError\u001b[0m                            Traceback (most recent call last)",
      "\u001b[0;32m~/anaconda3/envs/hotspots/lib/python3.6/site-packages/pandas/core/groupby/groupby.py\u001b[0m in \u001b[0;36mapply\u001b[0;34m(self, func, *args, **kwargs)\u001b[0m\n\u001b[1;32m    688\u001b[0m             \u001b[0;32mtry\u001b[0m\u001b[0;34m:\u001b[0m\u001b[0;34m\u001b[0m\u001b[0;34m\u001b[0m\u001b[0m\n\u001b[0;32m--> 689\u001b[0;31m                 \u001b[0mresult\u001b[0m \u001b[0;34m=\u001b[0m \u001b[0mself\u001b[0m\u001b[0;34m.\u001b[0m\u001b[0m_python_apply_general\u001b[0m\u001b[0;34m(\u001b[0m\u001b[0mf\u001b[0m\u001b[0;34m)\u001b[0m\u001b[0;34m\u001b[0m\u001b[0;34m\u001b[0m\u001b[0m\n\u001b[0m\u001b[1;32m    690\u001b[0m             \u001b[0;32mexcept\u001b[0m \u001b[0mException\u001b[0m\u001b[0;34m:\u001b[0m\u001b[0;34m\u001b[0m\u001b[0;34m\u001b[0m\u001b[0m\n",
      "\u001b[0;32m~/anaconda3/envs/hotspots/lib/python3.6/site-packages/pandas/core/groupby/groupby.py\u001b[0m in \u001b[0;36m_python_apply_general\u001b[0;34m(self, f)\u001b[0m\n\u001b[1;32m    706\u001b[0m         keys, values, mutated = self.grouper.apply(f, self._selected_obj,\n\u001b[0;32m--> 707\u001b[0;31m                                                    self.axis)\n\u001b[0m\u001b[1;32m    708\u001b[0m \u001b[0;34m\u001b[0m\u001b[0m\n",
      "\u001b[0;32m~/anaconda3/envs/hotspots/lib/python3.6/site-packages/pandas/core/groupby/ops.py\u001b[0m in \u001b[0;36mapply\u001b[0;34m(self, f, data, axis)\u001b[0m\n\u001b[1;32m    189\u001b[0m             \u001b[0mgroup_axes\u001b[0m \u001b[0;34m=\u001b[0m \u001b[0m_get_axes\u001b[0m\u001b[0;34m(\u001b[0m\u001b[0mgroup\u001b[0m\u001b[0;34m)\u001b[0m\u001b[0;34m\u001b[0m\u001b[0;34m\u001b[0m\u001b[0m\n\u001b[0;32m--> 190\u001b[0;31m             \u001b[0mres\u001b[0m \u001b[0;34m=\u001b[0m \u001b[0mf\u001b[0m\u001b[0;34m(\u001b[0m\u001b[0mgroup\u001b[0m\u001b[0;34m)\u001b[0m\u001b[0;34m\u001b[0m\u001b[0;34m\u001b[0m\u001b[0m\n\u001b[0m\u001b[1;32m    191\u001b[0m             \u001b[0;32mif\u001b[0m \u001b[0;32mnot\u001b[0m \u001b[0m_is_indexed_like\u001b[0m\u001b[0;34m(\u001b[0m\u001b[0mres\u001b[0m\u001b[0;34m,\u001b[0m \u001b[0mgroup_axes\u001b[0m\u001b[0;34m)\u001b[0m\u001b[0;34m:\u001b[0m\u001b[0;34m\u001b[0m\u001b[0;34m\u001b[0m\u001b[0m\n",
      "\u001b[0;32m~/Dropbox/Research/chromwindow/chromwindow/__init__.py\u001b[0m in \u001b[0;36mfunc_wrapper\u001b[0;34m(full_df)\u001b[0m\n\u001b[1;32m    462\u001b[0m             \u001b[0mbin_iter\u001b[0m \u001b[0;34m=\u001b[0m \u001b[0mget_bin_iterator\u001b[0m\u001b[0;34m(\u001b[0m\u001b[0mfull_df\u001b[0m\u001b[0;34m,\u001b[0m \u001b[0msize\u001b[0m\u001b[0;34m,\u001b[0m \u001b[0mlogbase\u001b[0m\u001b[0;34m,\u001b[0m \u001b[0meven\u001b[0m\u001b[0;34m)\u001b[0m\u001b[0;34m\u001b[0m\u001b[0;34m\u001b[0m\u001b[0m\n\u001b[0;32m--> 463\u001b[0;31m             \u001b[0mwindow_data\u001b[0m \u001b[0;34m=\u001b[0m \u001b[0mgenomic_windows\u001b[0m\u001b[0;34m(\u001b[0m\u001b[0mfull_df\u001b[0m\u001b[0;34m,\u001b[0m \u001b[0mfunc\u001b[0m\u001b[0;34m,\u001b[0m \u001b[0mbin_iter\u001b[0m\u001b[0;34m,\u001b[0m \u001b[0mempty\u001b[0m\u001b[0;34m=\u001b[0m\u001b[0mempty\u001b[0m\u001b[0;34m)\u001b[0m\u001b[0;34m\u001b[0m\u001b[0;34m\u001b[0m\u001b[0m\n\u001b[0m\u001b[1;32m    464\u001b[0m             \u001b[0;32mif\u001b[0m \u001b[0mfill\u001b[0m\u001b[0;34m:\u001b[0m\u001b[0;34m\u001b[0m\u001b[0;34m\u001b[0m\u001b[0m\n",
      "\u001b[0;32m~/Dropbox/Research/chromwindow/chromwindow/__init__.py\u001b[0m in \u001b[0;36mgenomic_windows\u001b[0;34m(full_df, func, bin_iter, empty)\u001b[0m\n\u001b[1;32m    398\u001b[0m     \u001b[0;32mfor\u001b[0m \u001b[0mrow_sr\u001b[0m \u001b[0;32min\u001b[0m \u001b[0mfull_df\u001b[0m\u001b[0;34m.\u001b[0m\u001b[0mitertuples\u001b[0m\u001b[0;34m(\u001b[0m\u001b[0;34m)\u001b[0m\u001b[0;34m:\u001b[0m\u001b[0;34m\u001b[0m\u001b[0;34m\u001b[0m\u001b[0m\n\u001b[0;32m--> 399\u001b[0;31m         \u001b[0;32mwhile\u001b[0m \u001b[0mrow_sr\u001b[0m\u001b[0;34m.\u001b[0m\u001b[0mstart\u001b[0m \u001b[0;34m>=\u001b[0m \u001b[0mbin_start\u001b[0m \u001b[0;34m+\u001b[0m \u001b[0mbin_size\u001b[0m\u001b[0;34m:\u001b[0m\u001b[0;34m\u001b[0m\u001b[0;34m\u001b[0m\u001b[0m\n\u001b[0m\u001b[1;32m    400\u001b[0m             \u001b[0;32mif\u001b[0m \u001b[0mbuf\u001b[0m \u001b[0;32mor\u001b[0m \u001b[0mempty\u001b[0m\u001b[0;34m:\u001b[0m\u001b[0;34m\u001b[0m\u001b[0;34m\u001b[0m\u001b[0m\n",
      "\u001b[0;31mAttributeError\u001b[0m: 'Pandas' object has no attribute 'start'",
      "\nDuring handling of the above exception, another exception occurred:\n",
      "\u001b[0;31mAttributeError\u001b[0m                            Traceback (most recent call last)",
      "\u001b[0;32m<ipython-input-3-43d01b08d7c4>\u001b[0m in \u001b[0;36m<module>\u001b[0;34m\u001b[0m\n\u001b[1;32m      3\u001b[0m     \u001b[0;32mreturn\u001b[0m \u001b[0mlen\u001b[0m\u001b[0;34m(\u001b[0m\u001b[0mdf\u001b[0m\u001b[0;34m.\u001b[0m\u001b[0mindex\u001b[0m\u001b[0;34m)\u001b[0m\u001b[0;34m\u001b[0m\u001b[0;34m\u001b[0m\u001b[0m\n\u001b[1;32m      4\u001b[0m \u001b[0;34m\u001b[0m\u001b[0m\n\u001b[0;32m----> 5\u001b[0;31m \u001b[0mdf\u001b[0m \u001b[0;34m=\u001b[0m \u001b[0mdata\u001b[0m\u001b[0;34m.\u001b[0m\u001b[0mgroupby\u001b[0m\u001b[0;34m(\u001b[0m\u001b[0;34m'chrom'\u001b[0m\u001b[0;34m)\u001b[0m\u001b[0;34m.\u001b[0m\u001b[0mapply\u001b[0m\u001b[0;34m(\u001b[0m\u001b[0minterval_count\u001b[0m\u001b[0;34m)\u001b[0m\u001b[0;34m\u001b[0m\u001b[0;34m\u001b[0m\u001b[0m\n\u001b[0m\u001b[1;32m      6\u001b[0m \u001b[0mdf\u001b[0m\u001b[0;34m\u001b[0m\u001b[0;34m\u001b[0m\u001b[0m\n",
      "\u001b[0;32m~/anaconda3/envs/hotspots/lib/python3.6/site-packages/pandas/core/groupby/groupby.py\u001b[0m in \u001b[0;36mapply\u001b[0;34m(self, func, *args, **kwargs)\u001b[0m\n\u001b[1;32m    699\u001b[0m \u001b[0;34m\u001b[0m\u001b[0m\n\u001b[1;32m    700\u001b[0m                 \u001b[0;32mwith\u001b[0m \u001b[0m_group_selection_context\u001b[0m\u001b[0;34m(\u001b[0m\u001b[0mself\u001b[0m\u001b[0;34m)\u001b[0m\u001b[0;34m:\u001b[0m\u001b[0;34m\u001b[0m\u001b[0;34m\u001b[0m\u001b[0m\n\u001b[0;32m--> 701\u001b[0;31m                     \u001b[0;32mreturn\u001b[0m \u001b[0mself\u001b[0m\u001b[0;34m.\u001b[0m\u001b[0m_python_apply_general\u001b[0m\u001b[0;34m(\u001b[0m\u001b[0mf\u001b[0m\u001b[0;34m)\u001b[0m\u001b[0;34m\u001b[0m\u001b[0;34m\u001b[0m\u001b[0m\n\u001b[0m\u001b[1;32m    702\u001b[0m \u001b[0;34m\u001b[0m\u001b[0m\n\u001b[1;32m    703\u001b[0m         \u001b[0;32mreturn\u001b[0m \u001b[0mresult\u001b[0m\u001b[0;34m\u001b[0m\u001b[0;34m\u001b[0m\u001b[0m\n",
      "\u001b[0;32m~/anaconda3/envs/hotspots/lib/python3.6/site-packages/pandas/core/groupby/groupby.py\u001b[0m in \u001b[0;36m_python_apply_general\u001b[0;34m(self, f)\u001b[0m\n\u001b[1;32m    705\u001b[0m     \u001b[0;32mdef\u001b[0m \u001b[0m_python_apply_general\u001b[0m\u001b[0;34m(\u001b[0m\u001b[0mself\u001b[0m\u001b[0;34m,\u001b[0m \u001b[0mf\u001b[0m\u001b[0;34m)\u001b[0m\u001b[0;34m:\u001b[0m\u001b[0;34m\u001b[0m\u001b[0;34m\u001b[0m\u001b[0m\n\u001b[1;32m    706\u001b[0m         keys, values, mutated = self.grouper.apply(f, self._selected_obj,\n\u001b[0;32m--> 707\u001b[0;31m                                                    self.axis)\n\u001b[0m\u001b[1;32m    708\u001b[0m \u001b[0;34m\u001b[0m\u001b[0m\n\u001b[1;32m    709\u001b[0m         return self._wrap_applied_output(\n",
      "\u001b[0;32m~/anaconda3/envs/hotspots/lib/python3.6/site-packages/pandas/core/groupby/ops.py\u001b[0m in \u001b[0;36mapply\u001b[0;34m(self, f, data, axis)\u001b[0m\n\u001b[1;32m    188\u001b[0m             \u001b[0;31m# group might be modified\u001b[0m\u001b[0;34m\u001b[0m\u001b[0;34m\u001b[0m\u001b[0;34m\u001b[0m\u001b[0m\n\u001b[1;32m    189\u001b[0m             \u001b[0mgroup_axes\u001b[0m \u001b[0;34m=\u001b[0m \u001b[0m_get_axes\u001b[0m\u001b[0;34m(\u001b[0m\u001b[0mgroup\u001b[0m\u001b[0;34m)\u001b[0m\u001b[0;34m\u001b[0m\u001b[0;34m\u001b[0m\u001b[0m\n\u001b[0;32m--> 190\u001b[0;31m             \u001b[0mres\u001b[0m \u001b[0;34m=\u001b[0m \u001b[0mf\u001b[0m\u001b[0;34m(\u001b[0m\u001b[0mgroup\u001b[0m\u001b[0;34m)\u001b[0m\u001b[0;34m\u001b[0m\u001b[0;34m\u001b[0m\u001b[0m\n\u001b[0m\u001b[1;32m    191\u001b[0m             \u001b[0;32mif\u001b[0m \u001b[0;32mnot\u001b[0m \u001b[0m_is_indexed_like\u001b[0m\u001b[0;34m(\u001b[0m\u001b[0mres\u001b[0m\u001b[0;34m,\u001b[0m \u001b[0mgroup_axes\u001b[0m\u001b[0;34m)\u001b[0m\u001b[0;34m:\u001b[0m\u001b[0;34m\u001b[0m\u001b[0;34m\u001b[0m\u001b[0m\n\u001b[1;32m    192\u001b[0m                 \u001b[0mmutated\u001b[0m \u001b[0;34m=\u001b[0m \u001b[0;32mTrue\u001b[0m\u001b[0;34m\u001b[0m\u001b[0;34m\u001b[0m\u001b[0m\n",
      "\u001b[0;32m~/Dropbox/Research/chromwindow/chromwindow/__init__.py\u001b[0m in \u001b[0;36mfunc_wrapper\u001b[0;34m(full_df)\u001b[0m\n\u001b[1;32m    461\u001b[0m \u001b[0;34m\u001b[0m\u001b[0m\n\u001b[1;32m    462\u001b[0m             \u001b[0mbin_iter\u001b[0m \u001b[0;34m=\u001b[0m \u001b[0mget_bin_iterator\u001b[0m\u001b[0;34m(\u001b[0m\u001b[0mfull_df\u001b[0m\u001b[0;34m,\u001b[0m \u001b[0msize\u001b[0m\u001b[0;34m,\u001b[0m \u001b[0mlogbase\u001b[0m\u001b[0;34m,\u001b[0m \u001b[0meven\u001b[0m\u001b[0;34m)\u001b[0m\u001b[0;34m\u001b[0m\u001b[0;34m\u001b[0m\u001b[0m\n\u001b[0;32m--> 463\u001b[0;31m             \u001b[0mwindow_data\u001b[0m \u001b[0;34m=\u001b[0m \u001b[0mgenomic_windows\u001b[0m\u001b[0;34m(\u001b[0m\u001b[0mfull_df\u001b[0m\u001b[0;34m,\u001b[0m \u001b[0mfunc\u001b[0m\u001b[0;34m,\u001b[0m \u001b[0mbin_iter\u001b[0m\u001b[0;34m,\u001b[0m \u001b[0mempty\u001b[0m\u001b[0;34m=\u001b[0m\u001b[0mempty\u001b[0m\u001b[0;34m)\u001b[0m\u001b[0;34m\u001b[0m\u001b[0;34m\u001b[0m\u001b[0m\n\u001b[0m\u001b[1;32m    464\u001b[0m             \u001b[0;32mif\u001b[0m \u001b[0mfill\u001b[0m\u001b[0;34m:\u001b[0m\u001b[0;34m\u001b[0m\u001b[0;34m\u001b[0m\u001b[0m\n\u001b[1;32m    465\u001b[0m                 \u001b[0;32massert\u001b[0m \u001b[0;32mnot\u001b[0m \u001b[0meven\u001b[0m \u001b[0;32mand\u001b[0m \u001b[0;32mnot\u001b[0m \u001b[0mlogbase\u001b[0m \u001b[0;34m!=\u001b[0m \u001b[0;36m1\u001b[0m \u001b[0;32mand\u001b[0m \u001b[0mfill\u001b[0m\u001b[0;34m\u001b[0m\u001b[0;34m\u001b[0m\u001b[0m\n",
      "\u001b[0;32m~/Dropbox/Research/chromwindow/chromwindow/__init__.py\u001b[0m in \u001b[0;36mgenomic_windows\u001b[0;34m(full_df, func, bin_iter, empty)\u001b[0m\n\u001b[1;32m    397\u001b[0m     \u001b[0mbuf\u001b[0m \u001b[0;34m=\u001b[0m \u001b[0mlist\u001b[0m\u001b[0;34m(\u001b[0m\u001b[0;34m)\u001b[0m\u001b[0;34m\u001b[0m\u001b[0;34m\u001b[0m\u001b[0m\n\u001b[1;32m    398\u001b[0m     \u001b[0;32mfor\u001b[0m \u001b[0mrow_sr\u001b[0m \u001b[0;32min\u001b[0m \u001b[0mfull_df\u001b[0m\u001b[0;34m.\u001b[0m\u001b[0mitertuples\u001b[0m\u001b[0;34m(\u001b[0m\u001b[0;34m)\u001b[0m\u001b[0;34m:\u001b[0m\u001b[0;34m\u001b[0m\u001b[0;34m\u001b[0m\u001b[0m\n\u001b[0;32m--> 399\u001b[0;31m         \u001b[0;32mwhile\u001b[0m \u001b[0mrow_sr\u001b[0m\u001b[0;34m.\u001b[0m\u001b[0mstart\u001b[0m \u001b[0;34m>=\u001b[0m \u001b[0mbin_start\u001b[0m \u001b[0;34m+\u001b[0m \u001b[0mbin_size\u001b[0m\u001b[0;34m:\u001b[0m\u001b[0;34m\u001b[0m\u001b[0;34m\u001b[0m\u001b[0m\n\u001b[0m\u001b[1;32m    400\u001b[0m             \u001b[0;32mif\u001b[0m \u001b[0mbuf\u001b[0m \u001b[0;32mor\u001b[0m \u001b[0mempty\u001b[0m\u001b[0;34m:\u001b[0m\u001b[0;34m\u001b[0m\u001b[0;34m\u001b[0m\u001b[0m\n\u001b[1;32m    401\u001b[0m                 \u001b[0mprocess\u001b[0m\u001b[0;34m(\u001b[0m\u001b[0mbuf\u001b[0m\u001b[0;34m)\u001b[0m\u001b[0;34m\u001b[0m\u001b[0;34m\u001b[0m\u001b[0m\n",
      "\u001b[0;31mAttributeError\u001b[0m: 'Pandas' object has no attribute 'start'"
     ]
    }
   ],
   "source": [
    "@window(size=5)\n",
    "def interval_count(df):\n",
    "    return len(df.index)\n",
    "\n",
    "df = data.groupby('chrom').apply(interval_count)\n",
    "df"
   ]
  },
  {
   "cell_type": "markdown",
   "metadata": {},
   "source": [
    "You can get rid of the extra index like this:"
   ]
  },
  {
   "cell_type": "code",
   "execution_count": 14,
   "metadata": {},
   "outputs": [
    {
     "output_type": "execute_result",
     "data": {
      "text/plain": "       start  end  interval_count\nchrom                            \nchr1       0    5               1\nchr2       0    5               4\nchr2       5   10               7\nchr2      10   15               2\nchr2      15   20               0\nchr2      20   25               0\nchr2      25   30               0\nchr2      30   35               0\nchr2      35   40               0\nchr2      40   45               1",
      "text/html": "<div>\n<style scoped>\n    .dataframe tbody tr th:only-of-type {\n        vertical-align: middle;\n    }\n\n    .dataframe tbody tr th {\n        vertical-align: top;\n    }\n\n    .dataframe thead th {\n        text-align: right;\n    }\n</style>\n<table border=\"1\" class=\"dataframe\">\n  <thead>\n    <tr style=\"text-align: right;\">\n      <th></th>\n      <th>start</th>\n      <th>end</th>\n      <th>interval_count</th>\n    </tr>\n    <tr>\n      <th>chrom</th>\n      <th></th>\n      <th></th>\n      <th></th>\n    </tr>\n  </thead>\n  <tbody>\n    <tr>\n      <th>chr1</th>\n      <td>0</td>\n      <td>5</td>\n      <td>1</td>\n    </tr>\n    <tr>\n      <th>chr2</th>\n      <td>0</td>\n      <td>5</td>\n      <td>4</td>\n    </tr>\n    <tr>\n      <th>chr2</th>\n      <td>5</td>\n      <td>10</td>\n      <td>7</td>\n    </tr>\n    <tr>\n      <th>chr2</th>\n      <td>10</td>\n      <td>15</td>\n      <td>2</td>\n    </tr>\n    <tr>\n      <th>chr2</th>\n      <td>15</td>\n      <td>20</td>\n      <td>0</td>\n    </tr>\n    <tr>\n      <th>chr2</th>\n      <td>20</td>\n      <td>25</td>\n      <td>0</td>\n    </tr>\n    <tr>\n      <th>chr2</th>\n      <td>25</td>\n      <td>30</td>\n      <td>0</td>\n    </tr>\n    <tr>\n      <th>chr2</th>\n      <td>30</td>\n      <td>35</td>\n      <td>0</td>\n    </tr>\n    <tr>\n      <th>chr2</th>\n      <td>35</td>\n      <td>40</td>\n      <td>0</td>\n    </tr>\n    <tr>\n      <th>chr2</th>\n      <td>40</td>\n      <td>45</td>\n      <td>1</td>\n    </tr>\n  </tbody>\n</table>\n</div>"
     },
     "metadata": {},
     "execution_count": 14
    }
   ],
   "source": [
    "df.reset_index(drop=True, level=-1)"
   ]
  },
  {
   "cell_type": "markdown",
   "metadata": {},
   "source": [
    "You can further convert the index to colums like this:"
   ]
  },
  {
   "cell_type": "code",
   "execution_count": 15,
   "metadata": {},
   "outputs": [
    {
     "output_type": "execute_result",
     "data": {
      "text/plain": "  chrom  start  end  interval_count\n0  chr1      0    5               1\n1  chr2      0    5               4\n2  chr2      5   10               7\n3  chr2     10   15               2\n4  chr2     15   20               0\n5  chr2     20   25               0\n6  chr2     25   30               0\n7  chr2     30   35               0\n8  chr2     35   40               0\n9  chr2     40   45               1",
      "text/html": "<div>\n<style scoped>\n    .dataframe tbody tr th:only-of-type {\n        vertical-align: middle;\n    }\n\n    .dataframe tbody tr th {\n        vertical-align: top;\n    }\n\n    .dataframe thead th {\n        text-align: right;\n    }\n</style>\n<table border=\"1\" class=\"dataframe\">\n  <thead>\n    <tr style=\"text-align: right;\">\n      <th></th>\n      <th>chrom</th>\n      <th>start</th>\n      <th>end</th>\n      <th>interval_count</th>\n    </tr>\n  </thead>\n  <tbody>\n    <tr>\n      <th>0</th>\n      <td>chr1</td>\n      <td>0</td>\n      <td>5</td>\n      <td>1</td>\n    </tr>\n    <tr>\n      <th>1</th>\n      <td>chr2</td>\n      <td>0</td>\n      <td>5</td>\n      <td>4</td>\n    </tr>\n    <tr>\n      <th>2</th>\n      <td>chr2</td>\n      <td>5</td>\n      <td>10</td>\n      <td>7</td>\n    </tr>\n    <tr>\n      <th>3</th>\n      <td>chr2</td>\n      <td>10</td>\n      <td>15</td>\n      <td>2</td>\n    </tr>\n    <tr>\n      <th>4</th>\n      <td>chr2</td>\n      <td>15</td>\n      <td>20</td>\n      <td>0</td>\n    </tr>\n    <tr>\n      <th>5</th>\n      <td>chr2</td>\n      <td>20</td>\n      <td>25</td>\n      <td>0</td>\n    </tr>\n    <tr>\n      <th>6</th>\n      <td>chr2</td>\n      <td>25</td>\n      <td>30</td>\n      <td>0</td>\n    </tr>\n    <tr>\n      <th>7</th>\n      <td>chr2</td>\n      <td>30</td>\n      <td>35</td>\n      <td>0</td>\n    </tr>\n    <tr>\n      <th>8</th>\n      <td>chr2</td>\n      <td>35</td>\n      <td>40</td>\n      <td>0</td>\n    </tr>\n    <tr>\n      <th>9</th>\n      <td>chr2</td>\n      <td>40</td>\n      <td>45</td>\n      <td>1</td>\n    </tr>\n  </tbody>\n</table>\n</div>"
     },
     "metadata": {},
     "execution_count": 15
    }
   ],
   "source": [
    "df.reset_index(drop=True, level=-1).reset_index()"
   ]
  },
  {
   "cell_type": "markdown",
   "metadata": {},
   "source": [
    "You can group by more than just the chromosome if you like:"
   ]
  },
  {
   "cell_type": "code",
   "execution_count": 16,
   "metadata": {},
   "outputs": [
    {
     "output_type": "execute_result",
     "data": {
      "text/plain": "               start  end  interval_count\nchrom species                            \nchr1  human        0    5               1\nchr2  chimp        0    5               0\n      chimp        5   10               5\n      chimp       10   15               2\n      chimp       15   20               0\n      chimp       20   25               0\n      chimp       25   30               0\n      chimp       30   35               0\n      chimp       35   40               0\n      chimp       40   45               1\n      human        0    5               4\n      human        5   10               2",
      "text/html": "<div>\n<style scoped>\n    .dataframe tbody tr th:only-of-type {\n        vertical-align: middle;\n    }\n\n    .dataframe tbody tr th {\n        vertical-align: top;\n    }\n\n    .dataframe thead th {\n        text-align: right;\n    }\n</style>\n<table border=\"1\" class=\"dataframe\">\n  <thead>\n    <tr style=\"text-align: right;\">\n      <th></th>\n      <th></th>\n      <th>start</th>\n      <th>end</th>\n      <th>interval_count</th>\n    </tr>\n    <tr>\n      <th>chrom</th>\n      <th>species</th>\n      <th></th>\n      <th></th>\n      <th></th>\n    </tr>\n  </thead>\n  <tbody>\n    <tr>\n      <th>chr1</th>\n      <th>human</th>\n      <td>0</td>\n      <td>5</td>\n      <td>1</td>\n    </tr>\n    <tr>\n      <th rowspan=\"11\" valign=\"top\">chr2</th>\n      <th>chimp</th>\n      <td>0</td>\n      <td>5</td>\n      <td>0</td>\n    </tr>\n    <tr>\n      <th>chimp</th>\n      <td>5</td>\n      <td>10</td>\n      <td>5</td>\n    </tr>\n    <tr>\n      <th>chimp</th>\n      <td>10</td>\n      <td>15</td>\n      <td>2</td>\n    </tr>\n    <tr>\n      <th>chimp</th>\n      <td>15</td>\n      <td>20</td>\n      <td>0</td>\n    </tr>\n    <tr>\n      <th>chimp</th>\n      <td>20</td>\n      <td>25</td>\n      <td>0</td>\n    </tr>\n    <tr>\n      <th>chimp</th>\n      <td>25</td>\n      <td>30</td>\n      <td>0</td>\n    </tr>\n    <tr>\n      <th>chimp</th>\n      <td>30</td>\n      <td>35</td>\n      <td>0</td>\n    </tr>\n    <tr>\n      <th>chimp</th>\n      <td>35</td>\n      <td>40</td>\n      <td>0</td>\n    </tr>\n    <tr>\n      <th>chimp</th>\n      <td>40</td>\n      <td>45</td>\n      <td>1</td>\n    </tr>\n    <tr>\n      <th>human</th>\n      <td>0</td>\n      <td>5</td>\n      <td>4</td>\n    </tr>\n    <tr>\n      <th>human</th>\n      <td>5</td>\n      <td>10</td>\n      <td>2</td>\n    </tr>\n  </tbody>\n</table>\n</div>"
     },
     "metadata": {},
     "execution_count": 16
    }
   ],
   "source": [
    "data.groupby(['chrom', 'species']).apply(interval_count).reset_index(drop=True, level=-1)"
   ]
  },
  {
   "cell_type": "markdown",
   "metadata": {},
   "source": [
    "You can use hte `even` keyword to put approximately the same amount of interval in each window (to the extent that this is possible):"
   ]
  },
  {
   "cell_type": "code",
   "execution_count": 17,
   "metadata": {},
   "outputs": [
    {
     "output_type": "execute_result",
     "data": {
      "text/plain": "       start  end  interval_count\nchrom                            \nchr1       0    5               1\nchr2       0    5               4\nchr2       5   10               7\nchr2      10   15               2\nchr2      15   20               0\nchr2      20   25               0\nchr2      25   30               0\nchr2      30   35               0\nchr2      35   40               0\nchr2      40   45               1",
      "text/html": "<div>\n<style scoped>\n    .dataframe tbody tr th:only-of-type {\n        vertical-align: middle;\n    }\n\n    .dataframe tbody tr th {\n        vertical-align: top;\n    }\n\n    .dataframe thead th {\n        text-align: right;\n    }\n</style>\n<table border=\"1\" class=\"dataframe\">\n  <thead>\n    <tr style=\"text-align: right;\">\n      <th></th>\n      <th>start</th>\n      <th>end</th>\n      <th>interval_count</th>\n    </tr>\n    <tr>\n      <th>chrom</th>\n      <th></th>\n      <th></th>\n      <th></th>\n    </tr>\n  </thead>\n  <tbody>\n    <tr>\n      <th>chr1</th>\n      <td>0</td>\n      <td>5</td>\n      <td>1</td>\n    </tr>\n    <tr>\n      <th>chr2</th>\n      <td>0</td>\n      <td>5</td>\n      <td>4</td>\n    </tr>\n    <tr>\n      <th>chr2</th>\n      <td>5</td>\n      <td>10</td>\n      <td>7</td>\n    </tr>\n    <tr>\n      <th>chr2</th>\n      <td>10</td>\n      <td>15</td>\n      <td>2</td>\n    </tr>\n    <tr>\n      <th>chr2</th>\n      <td>15</td>\n      <td>20</td>\n      <td>0</td>\n    </tr>\n    <tr>\n      <th>chr2</th>\n      <td>20</td>\n      <td>25</td>\n      <td>0</td>\n    </tr>\n    <tr>\n      <th>chr2</th>\n      <td>25</td>\n      <td>30</td>\n      <td>0</td>\n    </tr>\n    <tr>\n      <th>chr2</th>\n      <td>30</td>\n      <td>35</td>\n      <td>0</td>\n    </tr>\n    <tr>\n      <th>chr2</th>\n      <td>35</td>\n      <td>40</td>\n      <td>0</td>\n    </tr>\n    <tr>\n      <th>chr2</th>\n      <td>40</td>\n      <td>45</td>\n      <td>1</td>\n    </tr>\n  </tbody>\n</table>\n</div>"
     },
     "metadata": {},
     "execution_count": 17
    }
   ],
   "source": [
    "@window(even=15)\n",
    "def interval_sum(df):\n",
    "    return (df.end-df.start).sum()\n",
    "\n",
    "data.groupby('chrom').apply(interval_count).reset_index(drop=True, level=-1)"
   ]
  },
  {
   "cell_type": "markdown",
   "metadata": {},
   "source": [
    "You can return any number of values from your function. Just do so as a Series or a dictionary:"
   ]
  },
  {
   "cell_type": "code",
   "execution_count": 23,
   "metadata": {},
   "outputs": [
    {
     "output_type": "execute_result",
     "data": {
      "text/plain": "  chrom  start  end  analysis    run\n0  chr1      0   10       3.0    0.0\n1  chr2      0   10      45.0  450.0\n2  chr2     10   20      11.6  140.0\n3  chr2     20   30       0.0    0.0\n4  chr2     30   40       0.0    0.0\n5  chr2     40   50       7.0  100.0",
      "text/html": "<div>\n<style scoped>\n    .dataframe tbody tr th:only-of-type {\n        vertical-align: middle;\n    }\n\n    .dataframe tbody tr th {\n        vertical-align: top;\n    }\n\n    .dataframe thead th {\n        text-align: right;\n    }\n</style>\n<table border=\"1\" class=\"dataframe\">\n  <thead>\n    <tr style=\"text-align: right;\">\n      <th></th>\n      <th>chrom</th>\n      <th>start</th>\n      <th>end</th>\n      <th>analysis</th>\n      <th>run</th>\n    </tr>\n  </thead>\n  <tbody>\n    <tr>\n      <th>0</th>\n      <td>chr1</td>\n      <td>0</td>\n      <td>10</td>\n      <td>3.0</td>\n      <td>0.0</td>\n    </tr>\n    <tr>\n      <th>1</th>\n      <td>chr2</td>\n      <td>0</td>\n      <td>10</td>\n      <td>45.0</td>\n      <td>450.0</td>\n    </tr>\n    <tr>\n      <th>2</th>\n      <td>chr2</td>\n      <td>10</td>\n      <td>20</td>\n      <td>11.6</td>\n      <td>140.0</td>\n    </tr>\n    <tr>\n      <th>3</th>\n      <td>chr2</td>\n      <td>20</td>\n      <td>30</td>\n      <td>0.0</td>\n      <td>0.0</td>\n    </tr>\n    <tr>\n      <th>4</th>\n      <td>chr2</td>\n      <td>30</td>\n      <td>40</td>\n      <td>0.0</td>\n      <td>0.0</td>\n    </tr>\n    <tr>\n      <th>5</th>\n      <td>chr2</td>\n      <td>40</td>\n      <td>50</td>\n      <td>7.0</td>\n      <td>100.0</td>\n    </tr>\n  </tbody>\n</table>\n</div>"
     },
     "metadata": {},
     "execution_count": 23
    }
   ],
   "source": [
    "@window(size=10)\n",
    "def multiple_stats(df):\n",
    "    # return a Series\n",
    "    return df[['analysis','run']].sum()\n",
    "\n",
    "data.groupby(['chrom']).apply(multiple_stats).reset_index(drop=True, level=-1).reset_index()"
   ]
  },
  {
   "cell_type": "code",
   "execution_count": 24,
   "metadata": {},
   "outputs": [
    {
     "output_type": "execute_result",
     "data": {
      "text/plain": "       start  end  tot_length  interval_count\nchrom                                        \nchr1       0    5           5               1\nchr2       0    5           6               4\nchr2       5    7           6               4\nchr2       7    9           6               4\nchr2       9   11           5               3\nchr2      11   43           5               2\nchr2      43   45           2               1",
      "text/html": "<div>\n<style scoped>\n    .dataframe tbody tr th:only-of-type {\n        vertical-align: middle;\n    }\n\n    .dataframe tbody tr th {\n        vertical-align: top;\n    }\n\n    .dataframe thead th {\n        text-align: right;\n    }\n</style>\n<table border=\"1\" class=\"dataframe\">\n  <thead>\n    <tr style=\"text-align: right;\">\n      <th></th>\n      <th>start</th>\n      <th>end</th>\n      <th>tot_length</th>\n      <th>interval_count</th>\n    </tr>\n    <tr>\n      <th>chrom</th>\n      <th></th>\n      <th></th>\n      <th></th>\n      <th></th>\n    </tr>\n  </thead>\n  <tbody>\n    <tr>\n      <th>chr1</th>\n      <td>0</td>\n      <td>5</td>\n      <td>5</td>\n      <td>1</td>\n    </tr>\n    <tr>\n      <th>chr2</th>\n      <td>0</td>\n      <td>5</td>\n      <td>6</td>\n      <td>4</td>\n    </tr>\n    <tr>\n      <th>chr2</th>\n      <td>5</td>\n      <td>7</td>\n      <td>6</td>\n      <td>4</td>\n    </tr>\n    <tr>\n      <th>chr2</th>\n      <td>7</td>\n      <td>9</td>\n      <td>6</td>\n      <td>4</td>\n    </tr>\n    <tr>\n      <th>chr2</th>\n      <td>9</td>\n      <td>11</td>\n      <td>5</td>\n      <td>3</td>\n    </tr>\n    <tr>\n      <th>chr2</th>\n      <td>11</td>\n      <td>43</td>\n      <td>5</td>\n      <td>2</td>\n    </tr>\n    <tr>\n      <th>chr2</th>\n      <td>43</td>\n      <td>45</td>\n      <td>2</td>\n      <td>1</td>\n    </tr>\n  </tbody>\n</table>\n</div>"
     },
     "metadata": {},
     "execution_count": 24
    }
   ],
   "source": [
    "@window(even=5)\n",
    "def multiple_stats(df):\n",
    "    # return dictionary\n",
    "    return dict(tot_length=(df.end-df.start).sum(), interval_count=len(df))\n",
    "    \n",
    "data.groupby(['chrom']).apply(multiple_stats).reset_index(drop=True, level=-1)"
   ]
  },
  {
   "cell_type": "code",
   "execution_count": 25,
   "metadata": {},
   "outputs": [
    {
     "output_type": "execute_result",
     "data": {
      "text/plain": "           start        end  count1\nchrom                              \nchr1           0  100000000       1\nchr1   100000000  200000000       0\nchr1   200000000  300000000       0\nchr2           0  100000000      10\nchr2   100000000  200000000       0\nchr2   200000000  300000000       0",
      "text/html": "<div>\n<style scoped>\n    .dataframe tbody tr th:only-of-type {\n        vertical-align: middle;\n    }\n\n    .dataframe tbody tr th {\n        vertical-align: top;\n    }\n\n    .dataframe thead th {\n        text-align: right;\n    }\n</style>\n<table border=\"1\" class=\"dataframe\">\n  <thead>\n    <tr style=\"text-align: right;\">\n      <th></th>\n      <th>start</th>\n      <th>end</th>\n      <th>count1</th>\n    </tr>\n    <tr>\n      <th>chrom</th>\n      <th></th>\n      <th></th>\n      <th></th>\n    </tr>\n  </thead>\n  <tbody>\n    <tr>\n      <th>chr1</th>\n      <td>0</td>\n      <td>100000000</td>\n      <td>1</td>\n    </tr>\n    <tr>\n      <th>chr1</th>\n      <td>100000000</td>\n      <td>200000000</td>\n      <td>0</td>\n    </tr>\n    <tr>\n      <th>chr1</th>\n      <td>200000000</td>\n      <td>300000000</td>\n      <td>0</td>\n    </tr>\n    <tr>\n      <th>chr2</th>\n      <td>0</td>\n      <td>100000000</td>\n      <td>10</td>\n    </tr>\n    <tr>\n      <th>chr2</th>\n      <td>100000000</td>\n      <td>200000000</td>\n      <td>0</td>\n    </tr>\n    <tr>\n      <th>chr2</th>\n      <td>200000000</td>\n      <td>300000000</td>\n      <td>0</td>\n    </tr>\n  </tbody>\n</table>\n</div>"
     },
     "metadata": {},
     "execution_count": 25
    }
   ],
   "source": [
    "@window(size=100000000, empty=True, fill='hg19')\n",
    "def count1(df):\n",
    "    return len(df.index)\n",
    "\n",
    "data.groupby('chrom').apply(count1).reset_index(drop=True, level=-1)"
   ]
  },
  {
   "cell_type": "markdown",
   "metadata": {},
   "source": [
    "Use the `logbase` argument to make windows increase logarithmically with the specified base, starting from size. Usefull if the density of intervals decrease with distance (E.g. reletive to some annotation.)"
   ]
  },
  {
   "cell_type": "code",
   "execution_count": 27,
   "metadata": {},
   "outputs": [
    {
     "output_type": "execute_result",
     "data": {
      "text/plain": "       start   end  count2\nchrom                     \nchr1     0.0   2.0       1\nchr1     2.0   6.0       1\nchr2     0.0   2.0       1\nchr2     2.0   6.0       4\nchr2     6.0  14.0       6\nchr2    14.0  30.0       0\nchr2    30.0  62.0       1",
      "text/html": "<div>\n<style scoped>\n    .dataframe tbody tr th:only-of-type {\n        vertical-align: middle;\n    }\n\n    .dataframe tbody tr th {\n        vertical-align: top;\n    }\n\n    .dataframe thead th {\n        text-align: right;\n    }\n</style>\n<table border=\"1\" class=\"dataframe\">\n  <thead>\n    <tr style=\"text-align: right;\">\n      <th></th>\n      <th>start</th>\n      <th>end</th>\n      <th>count2</th>\n    </tr>\n    <tr>\n      <th>chrom</th>\n      <th></th>\n      <th></th>\n      <th></th>\n    </tr>\n  </thead>\n  <tbody>\n    <tr>\n      <th>chr1</th>\n      <td>0.0</td>\n      <td>2.0</td>\n      <td>1</td>\n    </tr>\n    <tr>\n      <th>chr1</th>\n      <td>2.0</td>\n      <td>6.0</td>\n      <td>1</td>\n    </tr>\n    <tr>\n      <th>chr2</th>\n      <td>0.0</td>\n      <td>2.0</td>\n      <td>1</td>\n    </tr>\n    <tr>\n      <th>chr2</th>\n      <td>2.0</td>\n      <td>6.0</td>\n      <td>4</td>\n    </tr>\n    <tr>\n      <th>chr2</th>\n      <td>6.0</td>\n      <td>14.0</td>\n      <td>6</td>\n    </tr>\n    <tr>\n      <th>chr2</th>\n      <td>14.0</td>\n      <td>30.0</td>\n      <td>0</td>\n    </tr>\n    <tr>\n      <th>chr2</th>\n      <td>30.0</td>\n      <td>62.0</td>\n      <td>1</td>\n    </tr>\n  </tbody>\n</table>\n</div>"
     },
     "metadata": {},
     "execution_count": 27
    }
   ],
   "source": [
    "@window(size=2, logbase=2)\n",
    "def count2(df):\n",
    "    return len(df.index)\n",
    "\n",
    "data.groupby('chrom').apply(count2).reset_index(drop=True, level=-1)"
   ]
  },
  {
   "cell_type": "markdown",
   "metadata": {},
   "source": []
  },
  {
   "cell_type": "code",
   "execution_count": null,
   "metadata": {},
   "outputs": [],
   "source": []
  }
 ],
 "metadata": {
  "kernelspec": {
   "display_name": "Python 3",
   "language": "python",
   "name": "python3"
  },
  "language_info": {
   "codemirror_mode": {
    "name": "ipython",
    "version": 3
   },
   "file_extension": ".py",
   "mimetype": "text/x-python",
   "name": "python",
   "nbconvert_exporter": "python",
   "pygments_lexer": "ipython3",
   "version": "3.6.8-final"
  }
 },
 "nbformat": 4,
 "nbformat_minor": 2
}